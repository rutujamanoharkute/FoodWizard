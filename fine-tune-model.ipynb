{
 "cells": [
  {
   "cell_type": "code",
   "execution_count": 71,
   "metadata": {},
   "outputs": [
    {
     "name": "stdout",
     "output_type": "stream",
     "text": [
      "Num examples: 31\n",
      "First example:\n",
      "{'role': 'system', 'content': 'RecipeMaster is Indian Recipe chatbot, RecipeMaster understands Indian food culture.'}\n",
      "{'role': 'user', 'content': \"What's the Masala Karela Recipe?\"}\n",
      "{'role': 'assistant', 'content': 'Namaste! It is recipe mainly consist of Bittergroud along with spices and more flavours'}\n"
     ]
    }
   ],
   "source": [
    "import json\n",
    "import tiktoken  # for token counting\n",
    "import numpy as np\n",
    "from collections import defaultdict\n",
    "\n",
    "# Data loading\n",
    "data_path = \"data.jsonl\"\n",
    "\n",
    "# Load the dataset\n",
    "with open(data_path, 'r', encoding='utf-8') as f:\n",
    "    dataset = [json.loads(line) for line in f]\n",
    "\n",
    "# Initial dataset stats\n",
    "print(\"Num examples:\", len(dataset))\n",
    "print(\"First example:\")\n",
    "for message in dataset[0][\"messages\"]:\n",
    "    print(message)"
   ]
  },
  {
   "cell_type": "code",
   "execution_count": 72,
   "metadata": {},
   "outputs": [
    {
     "name": "stdout",
     "output_type": "stream",
     "text": [
      "No errors found\n"
     ]
    }
   ],
   "source": [
    "# Format error checks\n",
    "format_errors = defaultdict(int)\n",
    "\n",
    "for ex in dataset:\n",
    "    if not isinstance(ex, dict):\n",
    "        format_errors[\"data_type\"] += 1\n",
    "    messages = ex.get(\"messages\", None)\n",
    "    if messages is None:\n",
    "        format_errors[\"missing_messages_list\"] += 1\n",
    "    else:\n",
    "        for message in messages:\n",
    "            if \"role\" not in message or \"content\" not in message:\n",
    "                format_errors[\"message_missing_key\"] += 1\n",
    "            if any(k not in (\"role\", \"content\", \"name\", \"function_call\", \"weight\") for k in message):\n",
    "                format_errors[\"message_unrecognized_key\"] += 1\n",
    "            if message.get(\"role\") not in (\"system\", \"user\", \"assistant\"):\n",
    "                format_errors[\"unrecognized_role\"] += 1\n",
    "            if not isinstance(message.get(\"content\", ''), str):\n",
    "                format_errors[\"missing_content\"] += 1\n",
    "        if not any(message.get(\"role\") == \"assistant\" for message in messages):\n",
    "            format_errors[\"example_missing_assistant_message\"] += 1\n",
    "\n",
    "if format_errors:\n",
    "    print(\"Found errors:\")\n",
    "    for k, v in format_errors.items():\n",
    "        print(f\"{k}: {v}\")\n",
    "else:\n",
    "    print(\"No errors found\")"
   ]
  },
  {
   "cell_type": "code",
   "execution_count": 73,
   "metadata": {},
   "outputs": [],
   "source": [
    "encoding = tiktoken.get_encoding(\"cl100k_base\")\n",
    "\n",
    "def num_tokens_from_messages(messages):\n",
    "    num_tokens = 0\n",
    "    for message in messages:\n",
    "        num_tokens += len(encoding.encode(message['content']))\n",
    "    return num_tokens\n",
    "\n",
    "def print_distribution(values, name):\n",
    "    print(f\"\\n#### Distribution of {name}:\")\n",
    "    print(f\"min / max: {min(values)}, {max(values)}\")\n",
    "    print(f\"mean / median: {np.mean(values)}, {np.median(values)}\")\n",
    "    print(f\"p5 / p95: {np.quantile(values, 0.05)}, {np.quantile(values, 0.95)}\")"
   ]
  },
  {
   "cell_type": "code",
   "execution_count": 74,
   "metadata": {},
   "outputs": [
    {
     "name": "stdout",
     "output_type": "stream",
     "text": [
      "Num examples missing system message: 0\n",
      "Num examples missing user message: 0\n",
      "\n",
      "#### Distribution of num_messages_per_example:\n",
      "min / max: 3, 3\n",
      "mean / median: 3.0, 3.0\n",
      "p5 / p95: 3.0, 3.0\n",
      "\n",
      "#### Distribution of num_total_tokens_per_example:\n",
      "min / max: 20, 115\n",
      "mean / median: 38.774193548387096, 37.0\n",
      "p5 / p95: 26.5, 51.5\n",
      "\n",
      "#### Distribution of num_assistant_tokens_per_example:\n",
      "min / max: 3, 80\n",
      "mean / median: 16.677419354838708, 17.0\n",
      "p5 / p95: 6.0, 21.5\n"
     ]
    }
   ],
   "source": [
    "n_missing_system = 0\n",
    "n_missing_user = 0\n",
    "n_messages = []\n",
    "convo_lens = []\n",
    "assistant_message_lens = []\n",
    "\n",
    "for ex in dataset:\n",
    "    messages = ex[\"messages\"]\n",
    "    system_present = any(m[\"role\"] == \"system\" for m in messages)\n",
    "    user_present = any(m[\"role\"] == \"user\" for m in messages)\n",
    "    n_missing_system += not system_present\n",
    "    n_missing_user += not user_present\n",
    "    n_messages.append(len(messages))\n",
    "    convo_lens.append(num_tokens_from_messages(messages))\n",
    "    assistant_message_lens.append(num_tokens_from_messages([m for m in messages if m[\"role\"] == \"assistant\"]))\n",
    "\n",
    "print(\"Num examples missing system message:\", n_missing_system)\n",
    "print(\"Num examples missing user message:\", n_missing_user)\n",
    "print_distribution(n_messages, \"num_messages_per_example\")\n",
    "print_distribution(convo_lens, \"num_total_tokens_per_example\")\n",
    "print_distribution(assistant_message_lens, \"num_assistant_tokens_per_example\")"
   ]
  },
  {
   "cell_type": "code",
   "execution_count": 75,
   "metadata": {},
   "outputs": [
    {
     "name": "stdout",
     "output_type": "stream",
     "text": [
      "Dataset has ~1202 tokens that will be charged for during training\n",
      "By default, you'll train for 3 epochs on this dataset\n",
      "By default, you'll be charged for ~3606 tokens\n"
     ]
    }
   ],
   "source": [
    "# Assume each example's token count does not exceed the maximum context length for the model.\n",
    "MAX_TOKENS_PER_EXAMPLE = 115\n",
    "n_epochs = 3  # typically a good starting point\n",
    "n_train_examples = len(dataset)\n",
    "n_billing_tokens_in_dataset = sum(min(MAX_TOKENS_PER_EXAMPLE, l) for l in convo_lens)\n",
    "\n",
    "print(f\"Dataset has ~{n_billing_tokens_in_dataset} tokens that will be charged for during training\")\n",
    "print(f\"By default, you'll train for {n_epochs} epochs on this dataset\")\n",
    "print(f\"By default, you'll be charged for ~{n_epochs * n_billing_tokens_in_dataset} tokens\")\n",
    "\n",
    "# Visit OpenAI's pricing page for detailed cost information."
   ]
  },
  {
   "cell_type": "code",
   "execution_count": 111,
   "metadata": {},
   "outputs": [],
   "source": [
    "from openai import OpenAI\n",
    "import os\n",
    "\n",
    "\n",
    "from dotenv import load_dotenv\n",
    "\n",
    "\n",
    "load_dotenv()\n",
    "\n",
    "client = OpenAI(api_key=os.getenv(\"OPENAI_API_KEY\"))"
   ]
  },
  {
   "cell_type": "code",
   "execution_count": 76,
   "metadata": {},
   "outputs": [
    {
     "name": "stdout",
     "output_type": "stream",
     "text": [
      "FileObject(id='file-kR42WXMmtjMBPmznt9x1PkEk', bytes=8931, created_at=1722633206, filename='data.jsonl', object='file', purpose='fine-tune', status='processed', status_details=None)\n"
     ]
    }
   ],
   "source": [
    "\n",
    "\n",
    "response = client.files.create(\n",
    "    file=open(\"data.jsonl\", \"rb\"),  # Make sure the file path and name are correct\n",
    "    purpose=\"fine-tune\"\n",
    ")\n",
    "print(response)  # This will print the response from the server including the file ID"
   ]
  },
  {
   "cell_type": "code",
   "execution_count": null,
   "metadata": {},
   "outputs": [],
   "source": []
  },
  {
   "cell_type": "code",
   "execution_count": 77,
   "metadata": {},
   "outputs": [
    {
     "name": "stdout",
     "output_type": "stream",
     "text": [
      "Available models for fine-tuning:\n",
      "dall-e-3\n",
      "gpt-4-1106-preview\n",
      "dall-e-2\n",
      "tts-1-hd-1106\n",
      "tts-1-hd\n",
      "gpt-4o-mini-2024-07-18\n",
      "gpt-4-0125-preview\n",
      "babbage-002\n",
      "gpt-4-turbo-preview\n",
      "text-embedding-3-small\n",
      "text-embedding-3-large\n",
      "tts-1\n",
      "gpt-3.5-turbo\n",
      "whisper-1\n",
      "gpt-4o-2024-05-13\n",
      "text-embedding-ada-002\n",
      "gpt-3.5-turbo-16k\n",
      "davinci-002\n",
      "gpt-4-turbo-2024-04-09\n",
      "tts-1-1106\n",
      "gpt-3.5-turbo-0125\n",
      "gpt-4-turbo\n",
      "gpt-3.5-turbo-1106\n",
      "gpt-4o-mini\n",
      "gpt-4o\n",
      "gpt-3.5-turbo-instruct-0914\n",
      "gpt-3.5-turbo-instruct\n",
      "gpt-4-0613\n",
      "gpt-4\n"
     ]
    }
   ],
   "source": [
    "# List available models\n",
    "available_models = client.models.list()\n",
    "print(\"Available models for fine-tuning:\")\n",
    "for model in available_models:\n",
    "    print(model.id)\n"
   ]
  },
  {
   "cell_type": "code",
   "execution_count": 78,
   "metadata": {},
   "outputs": [
    {
     "name": "stdout",
     "output_type": "stream",
     "text": [
      "FineTuningJob(id='ftjob-0vKiCVozz8QffAJAPwhedj06', created_at=1722633239, error=Error(code=None, message=None, param=None), fine_tuned_model=None, finished_at=None, hyperparameters=Hyperparameters(n_epochs='auto', batch_size='auto', learning_rate_multiplier='auto'), model='gpt-3.5-turbo-0125', object='fine_tuning.job', organization_id='org-90r750f7PwRNyB7GCURshhTk', result_files=[], seed=938634481, status='validating_files', trained_tokens=None, training_file='file-kR42WXMmtjMBPmznt9x1PkEk', validation_file=None, estimated_finish=None, integrations=[], user_provided_suffix=None)\n"
     ]
    }
   ],
   "source": [
    "\n",
    "from openai import OpenAI\n",
    "client = OpenAI()\n",
    "\n",
    "# Start a fine-tuning job\n",
    "response = client.fine_tuning.jobs.create(\n",
    "    training_file=\"file-kR42WXMmtjMBPmznt9x1PkEk\",  # Replace 'file-abc123' with your actual file ID\n",
    "    model=\"gpt-3.5-turbo\"  # Model type to fine-tune\n",
    ")\n",
    "print(response)"
   ]
  },
  {
   "cell_type": "code",
   "execution_count": 79,
   "metadata": {},
   "outputs": [
    {
     "name": "stdout",
     "output_type": "stream",
     "text": [
      "Error Code: None\n",
      "Error Message: None\n",
      "Error Parameter: None\n"
     ]
    }
   ],
   "source": [
    "# Retrieve the status of the fine-tuning job\n",
    "fine_tune_job_id = \"ftjob-0vKiCVozz8QffAJAPwhedj06\"  # Replace with your fine-tune job ID\n",
    "job_status = client.fine_tuning.jobs.retrieve(fine_tune_job_id)\n",
    "\n",
    "# Print detailed error information\n",
    "if job_status.error:\n",
    "    print(\"Error Code:\", job_status.error.code)\n",
    "    print(\"Error Message:\", job_status.error.message)\n",
    "    print(\"Error Parameter:\", job_status.error.param)\n",
    "else:\n",
    "    print(\"No error information available\")\n"
   ]
  },
  {
   "cell_type": "code",
   "execution_count": 95,
   "metadata": {},
   "outputs": [
    {
     "name": "stdout",
     "output_type": "stream",
     "text": [
      "ftjob-0vKiCVozz8QffAJAPwhedj06 succeeded\n",
      "ftjob-MJOHDLF7U4gCoGmLQJQymhkJ failed\n",
      "ftjob-uFl8scupjkw5aeTqCOIe8x9b failed\n"
     ]
    }
   ],
   "source": [
    "# List all fine-tune jobs\n",
    "fine_tune_jobs = list(client.fine_tuning.jobs.list())\n",
    "# print(fine_tune_jobs)\n",
    "# Iterate through the jobs and print their IDs and statuses\n",
    "for job in fine_tune_jobs:\n",
    "    print(job.id, job.status)\n"
   ]
  },
  {
   "cell_type": "code",
   "execution_count": 112,
   "metadata": {},
   "outputs": [
    {
     "name": "stdout",
     "output_type": "stream",
     "text": [
      "Available models:\n",
      "dall-e-3\n",
      "gpt-4-1106-preview\n",
      "dall-e-2\n",
      "tts-1-hd-1106\n",
      "tts-1-hd\n",
      "gpt-4o-mini-2024-07-18\n",
      "gpt-4-0125-preview\n",
      "babbage-002\n",
      "gpt-4-turbo-preview\n",
      "text-embedding-3-small\n",
      "text-embedding-3-large\n",
      "tts-1\n",
      "gpt-3.5-turbo\n",
      "whisper-1\n",
      "gpt-4o-2024-05-13\n",
      "text-embedding-ada-002\n",
      "gpt-3.5-turbo-16k\n",
      "davinci-002\n",
      "gpt-4-turbo-2024-04-09\n",
      "tts-1-1106\n",
      "gpt-3.5-turbo-0125\n",
      "gpt-4-turbo\n",
      "gpt-3.5-turbo-1106\n",
      "gpt-4o-mini\n",
      "gpt-4o\n",
      "gpt-3.5-turbo-instruct-0914\n",
      "gpt-3.5-turbo-instruct\n",
      "gpt-4-0613\n",
      "gpt-4\n",
      "ft:gpt-3.5-turbo-0125:personal::9rtzvLWX:ckpt-step-31\n",
      "ft:gpt-3.5-turbo-0125:personal::9rtzvo1Z:ckpt-step-62\n",
      "ft:gpt-3.5-turbo-0125:personal::9rtzv3yx\n"
     ]
    }
   ],
   "source": [
    "# Import OpenAI client\n",
    "\n",
    "\n",
    "# List all models to find your fine-tuned model\n",
    "models = client.models.list()\n",
    "print(\"Available models:\")\n",
    "for model in models:\n",
    "    print(model.id)\n"
   ]
  },
  {
   "cell_type": "code",
   "execution_count": 115,
   "metadata": {},
   "outputs": [
    {
     "name": "stdout",
     "output_type": "stream",
     "text": [
      "ChatCompletionMessage(content='Namaste! Would you like to learn about Indian recipes?', role='assistant', function_call=None, tool_calls=None)\n"
     ]
    }
   ],
   "source": [
    "from openai import OpenAI\n",
    "client = OpenAI()\n",
    "\n",
    "completion = client.chat.completions.create(\n",
    "    model=\"ft:gpt-3.5-turbo-0125:personal::9rtzv3yx\",  # Replace with your specific model identifier\n",
    "    messages=[\n",
    "        {\"role\": \"system\", \"content\": \"You are recipemaster, who gives content regarding indian recipes\"},\n",
    "        {\"role\": \"user\", \"content\": \"hello\"}\n",
    "    ]\n",
    ")\n",
    "print(completion.choices[0].message)"
   ]
  },
  {
   "cell_type": "markdown",
   "metadata": {},
   "source": [
    "FileObject(id='file-UGV1vZiK507hMwQ03LyvqNeT', bytes=12622, created_at=1722630540, filename='data.jsonl', object='file', purpose='fine-tune', status='processed', status_details=None)\n"
   ]
  }
 ],
 "metadata": {
  "kernelspec": {
   "display_name": "venv",
   "language": "python",
   "name": "python3"
  },
  "language_info": {
   "codemirror_mode": {
    "name": "ipython",
    "version": 3
   },
   "file_extension": ".py",
   "mimetype": "text/x-python",
   "name": "python",
   "nbconvert_exporter": "python",
   "pygments_lexer": "ipython3",
   "version": "3.12.2"
  }
 },
 "nbformat": 4,
 "nbformat_minor": 2
}
